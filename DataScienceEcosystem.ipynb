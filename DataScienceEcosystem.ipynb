{
 "cells": [
  {
   "cell_type": "markdown",
   "id": "beb01b1e-a013-456f-bd11-64f4d4e1191e",
   "metadata": {},
   "source": [
    "# Data Science Tools and Ecosystem"
   ]
  },
  {
   "cell_type": "markdown",
   "id": "bf35e60a-1bf6-4070-a1f0-8ca4150679c4",
   "metadata": {},
   "source": [
    "In this notebook, Data Science Tools and Ecosystem are summarized."
   ]
  },
  {
   "cell_type": "markdown",
   "id": "b2c351c9-7769-4bac-bd1a-439f2d472bb7",
   "metadata": {},
   "source": [
    "Some of the popular languages that Data Scientists use are:\n",
    "1. Python\n",
    "2. SQL\n",
    "3. R"
   ]
  },
  {
   "cell_type": "markdown",
   "id": "c08e16ef-0c86-4d60-97e5-6a87b3a76071",
   "metadata": {},
   "source": [
    "Some of the commonly used libraries used by Data Scientists include:\n",
    "1. Numpy\n",
    "2. Pandas\n",
    "3. Matplotlib"
   ]
  },
  {
   "cell_type": "markdown",
   "id": "5e8c56ce-0e3a-4534-add7-59900b67e6de",
   "metadata": {},
   "source": [
    "|Data Science tools|\n",
    "--------------------\n",
    "|RStudio|\n",
    "|JupyterNotebook|\n",
    "|Visual Studio|\n",
    "\n"
   ]
  },
  {
   "cell_type": "markdown",
   "id": "77b7f9a0-a3b8-4e45-ae59-9ce47ea3831d",
   "metadata": {},
   "source": [
    "# Below are a few examples of evaluating arithmetic expressions in Python."
   ]
  },
  {
   "cell_type": "markdown",
   "id": "01fe3a52-10ae-4941-a63f-9d09cd86fa8a",
   "metadata": {},
   "source": [
    "This a simple arithmetic expression to mutiply then add integers."
   ]
  },
  {
   "cell_type": "code",
   "execution_count": 1,
   "id": "a136b0eb-d7c0-4c3f-b4af-5ada7fd70ecb",
   "metadata": {
    "tags": []
   },
   "outputs": [
    {
     "data": {
      "text/plain": [
       "900"
      ]
     },
     "execution_count": 1,
     "metadata": {},
     "output_type": "execute_result"
    }
   ],
   "source": [
    "(99*9)+9"
   ]
  },
  {
   "cell_type": "markdown",
   "id": "88397254-8d08-4cfc-8031-b870210a6bcc",
   "metadata": {},
   "source": [
    "This will convert 200 minutes to hours by diving by 60."
   ]
  },
  {
   "cell_type": "code",
   "execution_count": 2,
   "id": "96237779-0616-4199-b0fa-7b2ab36e126e",
   "metadata": {
    "tags": []
   },
   "outputs": [
    {
     "data": {
      "text/plain": [
       "3.3333333333333335"
      ]
     },
     "execution_count": 2,
     "metadata": {},
     "output_type": "execute_result"
    }
   ],
   "source": [
    "200/60 # hours"
   ]
  },
  {
   "cell_type": "markdown",
   "id": "75eb4a75-2830-488b-a416-f3c0d537d422",
   "metadata": {},
   "source": [
    "__Objectives:__\n",
    "->  List popular languages for Data Science\n",
    "->  Some of the commonly used libraries used by Data Scientists\n",
    "->  Data Science Tools"
   ]
  },
  {
   "cell_type": "code",
   "execution_count": null,
   "id": "8712af29-c177-4124-ad60-2a166e186423",
   "metadata": {},
   "outputs": [],
   "source": []
  }
 ],
 "metadata": {
  "kernelspec": {
   "display_name": "Python 3 (ipykernel)",
   "language": "python",
   "name": "python3"
  },
  "language_info": {
   "codemirror_mode": {
    "name": "ipython",
    "version": 3
   },
   "file_extension": ".py",
   "mimetype": "text/x-python",
   "name": "python",
   "nbconvert_exporter": "python",
   "pygments_lexer": "ipython3",
   "version": "3.11.5"
  }
 },
 "nbformat": 4,
 "nbformat_minor": 5
}
